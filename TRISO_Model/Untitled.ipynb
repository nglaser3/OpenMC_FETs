{
 "cells": [
  {
   "cell_type": "code",
   "execution_count": 1,
   "id": "5fa49978-c8d3-4aa8-a45c-f72e78a878b2",
   "metadata": {},
   "outputs": [],
   "source": [
    "import openmc"
   ]
  },
  {
   "cell_type": "code",
   "execution_count": 2,
   "id": "0b747fe0-5bad-4141-9893-4a8c50ad3b0b",
   "metadata": {},
   "outputs": [
    {
     "name": "stderr",
     "output_type": "stream",
     "text": [
      "/opt/anaconda3/envs/openmc-env/lib/python3.12/site-packages/openmc/material.py:790: UserWarning: A uranium enrichment of 19.75 was given for Material ID=\"4\". OpenMC assumes the U234/U235 mass ratio is constant at 0.008, which is only valid at low enrichments. Consider setting the isotopic composition manually for enrichments over 5%.\n",
      "  warnings.warn(msg)\n"
     ]
    }
   ],
   "source": [
    "TRISO = openmc.Model()\n",
    "\n",
    "''' \n",
    "Materials \n",
    "'''\n",
    "\n",
    "SiC = openmc.Material(1,name='SiC')\n",
    "SiC.add_elements_from_formula('SiC')\n",
    "SiC.set_density('g/cm3',3.2)\n",
    "\n",
    "PyC = openmc.Material(2,name = 'PyC')\n",
    "PyC.add_element('C',1)\n",
    "PyC.set_density('g/cm3',1.9)\n",
    "\n",
    "Carbon = openmc.Material(3,name = 'Carbon Buffer')\n",
    "Carbon.add_element('C',1)\n",
    "Carbon.set_density('g/cm3',1)\n",
    "\n",
    "UCO = openmc.Material(4,name='Fuel')\n",
    "UCO.add_element('U',3,enrichment=19.75,)\n",
    "UCO.add_element('C',3)\n",
    "UCO.add_element('O',2)\n",
    "UCO.set_density('g/cm3',10.75)\n",
    "\n",
    "TRISO.materials = openmc.Materials([SiC,PyC,Carbon,UCO])"
   ]
  },
  {
   "cell_type": "code",
   "execution_count": 10,
   "id": "5e0b7d37-f461-4877-880b-03c0a66c5293",
   "metadata": {},
   "outputs": [],
   "source": [
    "'''\n",
    "Geometry \n",
    "'''\n",
    "#triso universe generation\n",
    "outer_radius = 566.7e-4 #outer radius of OPyC\n",
    "pf = .3\n",
    "seed = 1\n",
    "radii = [400e-4, 475e-4, 510e-4, 546.7e-4] #outer radii for fuel, buffer, ipyc, and SiC\n",
    "spheres = [openmc.Sphere(r = radius) for radius in radii]\n",
    "cells = [openmc.Cell(fill=UCO, region=-spheres[0]),\n",
    "        openmc.Cell(fill = Carbon,region = +spheres[0] & -spheres[1]),\n",
    "        openmc.Cell(fill = PyC, region = +spheres[1]&-spheres[2]),\n",
    "        openmc.Cell(fill=SiC, region = +spheres[2]&-spheres[3]),\n",
    "        openmc.Cell(fill = PyC, region = +spheres[3])]\n",
    "triso_univ = openmc.Universe(cells = cells)\n",
    "\n",
    "#compact generation and sphere packing\n",
    "compact_radius,compact_height= outer_radius *15 , 1   #eyeball guess from pictures\n",
    "compact_surface = openmc.ZCylinder(r = compact_radius)\n",
    "top,bottom = openmc.ZPlane(z0 = compact_height/2,boundary_type ='reflective'), openmc.ZPlane(z0 = -compact_height/2,boundary_type = 'reflective')\n",
    "compact_region =  -compact_surface & - top & + bottom\n",
    "centroids = openmc.model.pack_spheres(radius = outer_radius,region=compact_region, pf = pf, seed = seed)\n",
    "\n",
    "#bounding planes\n",
    "outterhex = openmc.model.HexagonalPrism(edge_length=2*compact_radius,boundary_type = 'reflective',corner_radius=0)\n",
    "hexagonal_compact = openmc.Cell(region = -outterhex &+bottom &-top&+compact_surface,fill=SiC)\n",
    "cylinder_compact = openmc.Cell(region = compact_region)\n",
    "\n",
    "#lattice generation \n",
    "trisos = [openmc.model.TRISO(outer_radius=outer_radius,fill = triso_univ, center=centroid) for centroid in centroids]\n",
    "shape = (7,7,7)\n",
    "lowerleft,upperright = cylinder_compact.region.bounding_box\n",
    "pitch = (upperright-lowerleft)/shape\n",
    "lattice = openmc.model.create_triso_lattice(trisos = trisos, lower_left=lowerleft, pitch=pitch,shape = shape,background=Carbon)\n",
    "cylinder_compact.fill = lattice\n",
    "\n",
    "universe = openmc.Universe(cells=[cylinder_compact,hexagonal_compact])\n",
    "TRISO.geometry = openmc.Geometry(universe)\n"
   ]
  },
  {
   "cell_type": "code",
   "execution_count": 13,
   "id": "0c703e7d-b503-404f-b4e2-e281c30eba8c",
   "metadata": {},
   "outputs": [],
   "source": [
    "'''\n",
    "Settings\n",
    "'''\n",
    "TRISO.settings.source = openmc.IndependentSource(space=openmc.stats.Box(\n",
    "    [-compact_radius, -compact_radius, -compact_height], [compact_radius, compact_radius, compact_height],only_fissionable=True))\n",
    "TRISO.settings.keff_trigger = {'type':'std_dev', 'threshold': .0009}\n",
    "TRISO.settings.inactive = 0\n",
    "TRISO.settings.batches = 5\n",
    "TRISO.settings.trigger_max_batches = 10\n",
    "TRISO.settings.particles = 1000"
   ]
  },
  {
   "cell_type": "code",
   "execution_count": 14,
   "id": "dd92e099-81a0-4e06-852f-7d5ccf4ffe25",
   "metadata": {},
   "outputs": [
    {
     "name": "stdout",
     "output_type": "stream",
     "text": [
      "                                %%%%%%%%%%%%%%%\n",
      "                           %%%%%%%%%%%%%%%%%%%%%%%%\n",
      "                        %%%%%%%%%%%%%%%%%%%%%%%%%%%%%%\n",
      "                      %%%%%%%%%%%%%%%%%%%%%%%%%%%%%%%%%%\n",
      "                    %%%%%%%%%%%%%%%%%%%%%%%%%%%%%%%%%%%%%%\n",
      "                   %%%%%%%%%%%%%%%%%%%%%%%%%%%%%%%%%%%%%%%%\n",
      "                                    %%%%%%%%%%%%%%%%%%%%%%%%\n",
      "                                     %%%%%%%%%%%%%%%%%%%%%%%%\n",
      "                 ###############      %%%%%%%%%%%%%%%%%%%%%%%%\n",
      "                ##################     %%%%%%%%%%%%%%%%%%%%%%%\n",
      "                ###################     %%%%%%%%%%%%%%%%%%%%%%%\n",
      "                ####################     %%%%%%%%%%%%%%%%%%%%%%\n",
      "                #####################     %%%%%%%%%%%%%%%%%%%%%\n",
      "                ######################     %%%%%%%%%%%%%%%%%%%%\n",
      "                #######################     %%%%%%%%%%%%%%%%%%\n",
      "                 #######################     %%%%%%%%%%%%%%%%%\n",
      "                 ######################     %%%%%%%%%%%%%%%%%\n",
      "                  ####################     %%%%%%%%%%%%%%%%%\n",
      "                    #################     %%%%%%%%%%%%%%%%%\n",
      "                     ###############     %%%%%%%%%%%%%%%%\n",
      "                       ############     %%%%%%%%%%%%%%%\n",
      "                          ########     %%%%%%%%%%%%%%\n",
      "                                      %%%%%%%%%%%\n",
      "\n",
      "                 | The OpenMC Monte Carlo Code\n",
      "       Copyright | 2011-2023 MIT, UChicago Argonne LLC, and contributors\n",
      "         License | https://docs.openmc.org/en/latest/license.html\n",
      "         Version | 0.14.0\n",
      "        Git SHA1 | fa2330103de61a864c958d1a7250f11e5dd91468\n",
      "       Date/Time | 2024-06-14 18:05:00\n",
      "\n",
      " Reading model XML file './model.xml' ...\n",
      " Reading cross sections XML file...\n",
      " Reading Si28 from\n",
      " /Users/nglaser3/projects/cross-section-libraries/endfb71_hdf5/neutron/Si28.h5\n",
      " Reading Si29 from\n",
      " /Users/nglaser3/projects/cross-section-libraries/endfb71_hdf5/neutron/Si29.h5\n",
      " Reading Si30 from\n",
      " /Users/nglaser3/projects/cross-section-libraries/endfb71_hdf5/neutron/Si30.h5\n",
      " Reading C0 from\n",
      " /Users/nglaser3/projects/cross-section-libraries/endfb71_hdf5/neutron/C0.h5\n",
      " Reading U234 from\n",
      " /Users/nglaser3/projects/cross-section-libraries/endfb71_hdf5/neutron/U234.h5\n",
      " Reading U235 from\n",
      " /Users/nglaser3/projects/cross-section-libraries/endfb71_hdf5/neutron/U235.h5\n",
      " Reading U238 from\n",
      " /Users/nglaser3/projects/cross-section-libraries/endfb71_hdf5/neutron/U238.h5\n",
      " Reading U236 from\n",
      " /Users/nglaser3/projects/cross-section-libraries/endfb71_hdf5/neutron/U236.h5\n",
      " Reading O16 from\n",
      " /Users/nglaser3/projects/cross-section-libraries/endfb71_hdf5/neutron/O16.h5\n",
      " Reading O17 from\n",
      " /Users/nglaser3/projects/cross-section-libraries/endfb71_hdf5/neutron/O17.h5\n",
      " Minimum neutron data temperature: 294 K\n",
      " Maximum neutron data temperature: 294 K\n",
      " Preparing distributed cell instances...\n",
      " Writing summary.h5 file...\n",
      " Maximum neutron transport energy: 20000000 eV for U235\n",
      " Initializing source particles...\n",
      "\n",
      " ====================>     K EIGENVALUE SIMULATION     <====================\n",
      "\n",
      "  Bat./Gen.      k            Average k\n",
      "  =========   ========   ====================\n",
      "        1/1    1.20192\n",
      "        2/1    1.17973    1.19083 +/- 0.01110\n",
      "        3/1    1.21898    1.20021 +/- 0.01136\n",
      "        4/1    1.24499    1.21141 +/- 0.01378\n",
      "        5/1    1.24035    1.21719 +/- 0.01214\n",
      " Creating state point statepoint.5.h5...\n",
      "\n",
      " =======================>     TIMING STATISTICS     <=======================\n",
      "\n",
      " Total time for initialization     = 1.0673e+00 seconds\n",
      "   Reading cross sections          = 3.2869e-01 seconds\n",
      " Total time in simulation          = 7.2815e+00 seconds\n",
      "   Time in transport only          = 7.2796e+00 seconds\n",
      "   Time in inactive batches        = 0.0000e+00 seconds\n",
      "   Time in active batches          = 7.2815e+00 seconds\n",
      "   Time synchronizing fission bank = 1.6612e-04 seconds\n",
      "     Sampling source sites         = 1.5042e-04 seconds\n",
      "     SEND/RECV source sites        = 1.4667e-05 seconds\n",
      "   Time accumulating tallies       = 8.3300e-07 seconds\n",
      "   Time writing statepoints        = 1.6248e-03 seconds\n",
      " Total time for finalization       = 3.0840e-06 seconds\n",
      " Total time elapsed                = 8.3571e+00 seconds\n",
      " Calculation Rate (active)         = 686.676 particles/second\n",
      "\n",
      " ============================>     RESULTS     <============================\n",
      "\n",
      " k-effective (Collision)     = 1.22574 +/- 0.01387\n",
      " k-effective (Track-length)  = 1.21719 +/- 0.01214\n",
      " k-effective (Absorption)    = 1.22598 +/- 0.02170\n",
      " Combined k-effective        = 1.22026 +/- 0.01811\n",
      " Leakage Fraction            = 0.00000 +/- 0.00000\n",
      "\n"
     ]
    },
    {
     "data": {
      "text/plain": [
       "PosixPath('/Users/nglaser3/projects/OpenMC_FETs/TRISO_Model/statepoint.5.h5')"
      ]
     },
     "execution_count": 14,
     "metadata": {},
     "output_type": "execute_result"
    }
   ],
   "source": [
    "TRISO.run()"
   ]
  },
  {
   "cell_type": "code",
   "execution_count": 12,
   "id": "acece932-ea3d-415e-8f1c-b5de04764ef7",
   "metadata": {},
   "outputs": [
    {
     "data": {
      "text/plain": [
       "<Axes: xlabel='x [cm]', ylabel='y [cm]'>"
      ]
     },
     "execution_count": 12,
     "metadata": {},
     "output_type": "execute_result"
    },
    {
     "data": {
      "image/png": "[encoded data removed]",
      "text/plain": [
       "<Figure size 258.065x259.74 with 1 Axes>"
      ]
     },
     "metadata": {},
     "output_type": "display_data"
    }
   ],
   "source": [
    "universe.plot(width=(4,4),color_by='material')"
   ]
  },
  {
   "cell_type": "code",
   "execution_count": null,
   "id": "35b2701c-5d3c-42a9-980e-efd6d82b55a1",
   "metadata": {},
   "outputs": [],
   "source": [
    "TRISO.settings.keff_trigger = {'type':'std_dev', 'threshold': value}"
   ]
  },
  {
   "cell_type": "code",
   "execution_count": null,
   "id": "e8dd23f3-4259-465b-aa1a-a1104754b6ad",
   "metadata": {},
   "outputs": [],
   "source": []
  }
 ],
 "metadata": {
  "kernelspec": {
   "display_name": "Python 3 (ipykernel)",
   "language": "python",
   "name": "python3"
  },
  "language_info": {
   "codemirror_mode": {
    "name": "ipython",
    "version": 3
   },
   "file_extension": ".py",
   "mimetype": "text/x-python",
   "name": "python",
   "nbconvert_exporter": "python",
   "pygments_lexer": "ipython3",
   "version": "3.12.2"
  }
 },
 "nbformat": 4,
 "nbformat_minor": 5
}
