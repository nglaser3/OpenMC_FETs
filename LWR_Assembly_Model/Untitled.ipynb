{
 "cells": [
  {
   "cell_type": "code",
   "execution_count": 2,
   "id": "58e81d3a-d670-4da8-9165-9feb7331cc6b",
   "metadata": {},
   "outputs": [],
   "source": [
    "import openmc, glob, pandas as pd, numpy as np"
   ]
  },
  {
   "cell_type": "code",
   "execution_count": 7,
   "id": "ed2fa806-631d-43cf-9d3c-069328951631",
   "metadata": {},
   "outputs": [],
   "source": [
    "statepoint = glob.glob('state*')[0]\n",
    "with openmc.StatePoint(statepoint) as sp:\n",
    "    df = sp.get_tally()\n",
    "    df = df.get_pandas_dataframe()"
   ]
  },
  {
   "cell_type": "code",
   "execution_count": 9,
   "id": "70da8321-7668-4631-8e3c-acf51c7ace96",
   "metadata": {},
   "outputs": [],
   "source": [
    "num = 0\n",
    "order = 100\n",
    "while order >0:\n",
    "    num += order\n",
    "    order -= 1"
   ]
  },
  {
   "cell_type": "code",
   "execution_count": 10,
   "id": "c208b3c4-7f30-4e3d-83b8-5e7c69bb81d7",
   "metadata": {},
   "outputs": [
    {
     "data": {
      "text/plain": [
       "5050"
      ]
     },
     "execution_count": 10,
     "metadata": {},
     "output_type": "execute_result"
    }
   ],
   "source": [
    "num\n",
    "    \n",
    "    "
   ]
  },
  {
   "cell_type": "code",
   "execution_count": null,
   "id": "3d2d4404-a417-4811-9a44-d3366efafc30",
   "metadata": {},
   "outputs": [],
   "source": []
  }
 ],
 "metadata": {
  "kernelspec": {
   "display_name": "Python 3 (ipykernel)",
   "language": "python",
   "name": "python3"
  },
  "language_info": {
   "codemirror_mode": {
    "name": "ipython",
    "version": 3
   },
   "file_extension": ".py",
   "mimetype": "text/x-python",
   "name": "python",
   "nbconvert_exporter": "python",
   "pygments_lexer": "ipython3",
   "version": "3.12.2"
  }
 },
 "nbformat": 4,
 "nbformat_minor": 5
}
